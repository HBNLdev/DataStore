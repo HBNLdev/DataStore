{
 "cells": [
  {
   "cell_type": "markdown",
   "metadata": {},
   "source": [
    "# 1) How to display a data frame in PyQt5 Window "
   ]
  },
  {
   "cell_type": "code",
   "execution_count": 1,
   "metadata": {
    "collapsed": true
   },
   "outputs": [],
   "source": [
    "#https://stackoverflow.com/questions/44603119/how-to-display-a-pandas-data-frame-with-pyqt5\n",
    "import pandas as pd\n",
    "import re\n",
    "import sys\n",
    "import os\n",
    "from PyQt5.QtCore import Qt\n",
    "from PyQt5.QtWidgets import (QMainWindow, QApplication, QPushButton, QWidget,  \n",
    "                             QVBoxLayout, QHBoxLayout, QPushButton, QTextEdit, QTableView)\n",
    "from PyQt5.QtGui import  QTextCursor\n",
    "from PyQt5.QtCore import QCoreApplication, QAbstractTableModel, QVariant, QModelIndex"
   ]
  },
  {
   "cell_type": "markdown",
   "metadata": {},
   "source": [
    "### data must be provided by creating a model to display data frame in GUI window..."
   ]
  },
  {
   "cell_type": "code",
   "execution_count": 2,
   "metadata": {
    "collapsed": false
   },
   "outputs": [],
   "source": [
    "class PandasModel(QAbstractTableModel): \n",
    "    def __init__(self, df = pd.DataFrame(), parent=None): \n",
    "        QAbstractTableModel.__init__(self, parent=parent)\n",
    "        self._df = df\n",
    "\n",
    "    def headerData(self, section, orientation, role=Qt.DisplayRole):\n",
    "        if role != Qt.DisplayRole:\n",
    "            return QVariant()\n",
    "\n",
    "        if orientation == Qt.Horizontal:\n",
    "            try:\n",
    "                return self._df.columns.tolist()[section]\n",
    "            except (IndexError, ):\n",
    "                return QVariant()\n",
    "        elif orientation == Qt.Vertical:\n",
    "            try:\n",
    "                # return self.df.index.tolist()\n",
    "                return self._df.index.tolist()[section]\n",
    "            except (IndexError, ):\n",
    "                return QVariant()\n",
    "\n",
    "    def data(self, index, role=Qt.DisplayRole):\n",
    "        if role != Qt.DisplayRole:\n",
    "            return QVariant()\n",
    "\n",
    "        if not index.isValid():\n",
    "            return QVariant()\n",
    "\n",
    "        return QVariant(str(self._df.ix[index.row(), index.column()]))\n",
    "\n",
    "    def setData(self, index, value, role):\n",
    "        row = self._df.index[index.row()]\n",
    "        col = self._df.columns[index.column()]\n",
    "        if hasattr(value, 'toPyObject'):\n",
    "            # PyQt4 gets a QVariant\n",
    "            value = value.toPyObject()\n",
    "        else:\n",
    "            # PySide gets an unicode\n",
    "            dtype = self._df[col].dtype\n",
    "            if dtype != object:\n",
    "                value = None if value == '' else dtype.type(value)\n",
    "        self._df.set_value(row, col, value)\n",
    "        return True\n",
    "\n",
    "    def rowCount(self, parent=QModelIndex()): \n",
    "        return len(self._df.index)\n",
    "\n",
    "    def columnCount(self, parent=QModelIndex()): \n",
    "        return len(self._df.columns)\n",
    "\n",
    "    def sort(self, column, order):\n",
    "        colname = self._df.columns.tolist()[column]\n",
    "        self.layoutAboutToBeChanged.emit()\n",
    "        self._df.sort_values(colname, ascending= order == QtCore.Qt.AscendingOrder, inplace=True)\n",
    "        self._df.reset_index(inplace=True, drop=True)\n",
    "        self.layoutChanged.emit()"
   ]
  },
  {
   "cell_type": "markdown",
   "metadata": {},
   "source": [
    "### when you click 'create dataframe', program will look into file path & run neuro_xml_to_df & display output in GUI window"
   ]
  },
  {
   "cell_type": "code",
   "execution_count": 3,
   "metadata": {
    "collapsed": false
   },
   "outputs": [
    {
     "name": "stdout",
     "output_type": "stream",
     "text": [
      "<PyQt5.QtWidgets.QApplication object at 0x7f2f00f6d288>\n",
      "sorting by test date...\n"
     ]
    },
    {
     "name": "stderr",
     "output_type": "stream",
     "text": [
      "/usr/local/anaconda3/envs/dbI/lib/python3.5/site-packages/ipykernel/__main__.py:29: DeprecationWarning: \n",
      ".ix is deprecated. Please use\n",
      ".loc for label based indexing or\n",
      ".iloc for positional indexing\n",
      "\n",
      "See the documentation here:\n",
      "http://pandas.pydata.org/pandas-docs/stable/indexing.html#ix-indexer-is-deprecated\n"
     ]
    },
    {
     "ename": "SystemExit",
     "evalue": "0",
     "output_type": "error",
     "traceback": [
      "An exception has occurred, use %tb to see the full traceback.\n",
      "\u001b[0;31mSystemExit\u001b[0m\u001b[0;31m:\u001b[0m 0\n"
     ]
    },
    {
     "name": "stderr",
     "output_type": "stream",
     "text": [
      "/usr/local/anaconda3/envs/dbI/lib/python3.5/site-packages/IPython/core/interactiveshell.py:2889: UserWarning: To exit: use 'exit', 'quit', or Ctrl-D.\n",
      "  warn(\"To exit: use 'exit', 'quit', or Ctrl-D.\", stacklevel=1)\n"
     ]
    }
   ],
   "source": [
    "class App(QMainWindow):\n",
    "    \n",
    "    \n",
    "    def __init__(self):\n",
    "        super(App, self).__init__()\n",
    "        self.setGeometry(50, 50, 500, 300)\n",
    "        self.setWindowTitle(\"PyQT tuts!\")\n",
    "        self.home()\n",
    "\n",
    "    def home(self):\n",
    "        \n",
    "        # create a simple layout with a button \n",
    "        w = QWidget()\n",
    "        self.setCentralWidget(w)\n",
    "        lay = QVBoxLayout(w)\n",
    "        btn = QPushButton(\"Create Dataframe\")\n",
    "        btn.clicked.connect(self.df_handler)\n",
    "        \n",
    "        # pandas stuff \n",
    "        self.tableView = QTableView()\n",
    "        self.tableView.setObjectName(\"tableView\")\n",
    "        \n",
    "\n",
    "        self.process  = QTextEdit()\n",
    "        self.process.moveCursor(QTextCursor.Start)\n",
    "        self.process.ensureCursorVisible()\n",
    "        self.process.setLineWrapColumnOrWidth(1000)\n",
    "        self.process.setLineWrapMode(QTextEdit.FixedPixelWidth)\n",
    "\n",
    "        lay.addWidget(btn)\n",
    "        lay.addWidget(self.process)\n",
    "        lay.addWidget(self.tableView)\n",
    "\n",
    "        self.show()\n",
    "        \n",
    "    def df_handler(self, signal):\n",
    "        \n",
    "        df = self.neuro_xml_to_df('/vol01/raw_data/staging/indiana')\n",
    "        model = PandasModel(df)\n",
    "        self.tableView.setModel(model)\n",
    "    \n",
    "    # this function is a test to see if stdout/stderr gets sent to GUI window \n",
    "    def neuro_xml_to_df(self, path):\n",
    "        \"\"\"Given a full path to neuropsych sub folders, returns data frame of first 6 lines of xml file\"\"\"\n",
    "        self.path = path\n",
    "\n",
    "        xml = [os.path.join(root,name) for root,dirs,files in os.walk(path) for name in files if name.endswith(\".xml\")]\n",
    "\n",
    "        ids_lst=[]\n",
    "        dob_lst = []\n",
    "        gen_lst=[]\n",
    "        test_lst =[]\n",
    "        ses_lst=[]\n",
    "        han_lst=[]\n",
    "        for i in xml:\n",
    "            with open(i) as f:\n",
    "                for line in f:\n",
    "                    if line.startswith('  <Sub'):\n",
    "                        ids_lst.extend(re.findall(r'<SubjectID>(.*?)</SubjectID>', line))\n",
    "                    if line.startswith('  <DOB'):\n",
    "                        dob_lst.extend(re.findall(r'<DOB>(.*?)</DOB>', line))\n",
    "                    if line.startswith('  <Gen'):\n",
    "                        gen_lst.extend(re.findall(r'<Gender>(.*?)</Gender>', line))\n",
    "                    if line.startswith('  <Test'):\n",
    "                        test_lst.extend(re.findall(r'<TestDate>(.*?)</TestDate>', line))\n",
    "                    if line.startswith('  <Sess'):\n",
    "                        ses_lst.extend(re.findall(r'<SessionCode>(.*?)</SessionCode>', line))\n",
    "                    if line.startswith('  <Hand'):\n",
    "                        han_lst.extend(re.findall(r'<Hand>(.*?)</Hand>', line))\n",
    "\n",
    "        data_set = pd.DataFrame(ids_lst, columns=[\"Subject ID\"])\n",
    "        data_set['Test_Date'] = test_lst\n",
    "        data_set['DOB'] = dob_lst\n",
    "        data_set['Gender'] = gen_lst\n",
    "        data_set['Handedness'] = han_lst\n",
    "        data_set['Run Letter'] = ses_lst\n",
    "\n",
    "        data_set['Test_Date'] =pd.to_datetime(data_set.Test_Date)\n",
    "        table = data_set.sort_values('Test_Date', ascending=True)\n",
    "        print(\"sorting by test date...\")\n",
    "        return table\n",
    "\n",
    "\n",
    "if __name__ == '__main__':\n",
    "    app = QCoreApplication.instance() ### adding this if statement prevents kernel from crashing \n",
    "    if app is None:\n",
    "        app = QApplication(sys.argv)\n",
    "        print(app)\n",
    "    ex = App()\n",
    "    sys.exit(app.exec_())"
   ]
  },
  {
   "cell_type": "markdown",
   "metadata": {},
   "source": [
    "# 2) redirect terminal output to QtextEdit & button to clear window"
   ]
  },
  {
   "cell_type": "code",
   "execution_count": 1,
   "metadata": {
    "collapsed": true
   },
   "outputs": [],
   "source": [
    "#https://stackoverflow.com/questions/44432276/print-out-python-console-output-to-qtextedit\n",
    "import sys\n",
    "import os\n",
    "import subprocess\n",
    "from PyQt5.QtWidgets import (QMainWindow, QApplication, QPushButton, QWidget,  \n",
    "                             QVBoxLayout, QHBoxLayout, QLabel, QTextEdit)\n",
    "from PyQt5.QtGui import QTextCursor\n",
    "from PyQt5.QtCore import QCoreApplication, QProcess, QObject, pyqtSignal"
   ]
  },
  {
   "cell_type": "code",
   "execution_count": 2,
   "metadata": {
    "collapsed": false
   },
   "outputs": [
    {
     "name": "stdout",
     "output_type": "stream",
     "text": [
      "<PyQt5.QtWidgets.QApplication object at 0x7f52e412cdc8>\n"
     ]
    },
    {
     "ename": "SystemExit",
     "evalue": "0",
     "output_type": "error",
     "traceback": [
      "An exception has occurred, use %tb to see the full traceback.\n",
      "\u001b[0;31mSystemExit\u001b[0m\u001b[0;31m:\u001b[0m 0\n"
     ]
    },
    {
     "name": "stderr",
     "output_type": "stream",
     "text": [
      "/usr/local/anaconda3/envs/dbI/lib/python3.5/site-packages/IPython/core/interactiveshell.py:2889: UserWarning: To exit: use 'exit', 'quit', or Ctrl-D.\n",
      "  warn(\"To exit: use 'exit', 'quit', or Ctrl-D.\", stacklevel=1)\n"
     ]
    }
   ],
   "source": [
    "class Stream(QObject):\n",
    "    newText = pyqtSignal(str)\n",
    "\n",
    "    def write(self, text):\n",
    "        self.newText.emit(str(text))\n",
    "    \n",
    "    def flush(self):\n",
    "        pass\n",
    "        \n",
    "class App(QMainWindow):\n",
    "    \n",
    "    \n",
    "    def __init__(self):\n",
    "        super(App, self).__init__()\n",
    "        self.setGeometry(50, 50, 500, 300)\n",
    "        self.setWindowTitle(\"PyQT tuts!\")\n",
    "        self.home()\n",
    "\n",
    "        sys.stdout = Stream(newText=self.onUpdateText)\n",
    "\n",
    "    def onUpdateText(self, text):\n",
    "        cursor = self.process.textCursor()\n",
    "        cursor.movePosition(QTextCursor.End)\n",
    "        cursor.insertText(text)\n",
    "        self.process.setTextCursor(cursor)\n",
    "        self.process.ensureCursorVisible()\n",
    "\n",
    "    def __del__(self):\n",
    "        sys.stdout = sys.__stdout__\n",
    "\n",
    "    def home(self):\n",
    "        \n",
    "        # create a window \n",
    "        w = QWidget()\n",
    "        self.setCentralWidget(w)\n",
    "        \n",
    "        # add a push button connected to something\n",
    "        lay = QVBoxLayout(w)\n",
    "        btn = QPushButton(\"Click me to see redirected terminal output\")\n",
    "        btn.clicked.connect(self.handler)\n",
    "        \n",
    "        # add a clear button\n",
    "        clear_button = QPushButton('Clear all text')\n",
    "        clear_button.clicked.connect(self.clear_function)\n",
    "        \n",
    "        # add text editor widget to provide a place for terminal output to be redirected to \n",
    "        self.process  = QTextEdit()\n",
    "        self.process.moveCursor(QTextCursor.Start)\n",
    "        self.process.ensureCursorVisible()\n",
    "        self.process.setLineWrapColumnOrWidth(1000)\n",
    "        self.process.setLineWrapMode(QTextEdit.FixedPixelWidth)\n",
    "        \n",
    "        # add widgets to GUI\n",
    "        lay.addWidget(btn)\n",
    "        lay.addWidget(clear_button)\n",
    "        lay.addWidget(self.process)\n",
    "\n",
    "        self.show()\n",
    " \n",
    "    # this method clears Qtextedit window\n",
    "    def clear_function(self, signal):\n",
    "        self.process.clear()\n",
    "        \n",
    "        \n",
    "    def handler(self, signal):\n",
    "        self.erp_and_filesize_check('/vol01/active_projects/anthony/ns650')\n",
    "    \n",
    "        \n",
    "    # this function is a test to see if stdout/stderr gets sent to GUI window \n",
    "    def erp_and_filesize_check(self, fp_check):\n",
    "        self.fp_check = fp_check\n",
    "\n",
    "        for r,d,f in os.walk(fp_check):\n",
    "            for n in d:\n",
    "                dirs = os.path.join(r,n)\n",
    "                erp_check = subprocess.Popen('ERP-raw-data_check.sh {}'.format(dirs), shell=True, \n",
    "                                              stdout=subprocess.PIPE, stderr=subprocess.PIPE, cwd=dirs)\n",
    "                result_erp = erp_check.communicate()[0]\n",
    "                print('ERP CHECK:', dirs, result_erp.decode('ascii'))\n",
    "                size_check = subprocess.Popen('DVD-file-size_check.sh {}'.format(dirs), shell=True, \n",
    "                                              stdout=subprocess.PIPE, stderr=subprocess.PIPE, cwd=dirs)\n",
    "                result_size = size_check.communicate()[0]\n",
    "                print('FILE SIZE CHECK: ', dirs, result_size.decode('ascii'))\n",
    "        \n",
    "        \n",
    "if __name__ == '__main__':\n",
    "    app = QCoreApplication.instance() ### adding this if statement prevents kernel from crashing \n",
    "    if app is None:\n",
    "        app = QApplication(sys.argv)\n",
    "        print(app)\n",
    "    ex = App()\n",
    "    sys.exit(app.exec_())"
   ]
  },
  {
   "cell_type": "code",
   "execution_count": null,
   "metadata": {
    "collapsed": true
   },
   "outputs": [],
   "source": []
  }
 ],
 "metadata": {
  "anaconda-cloud": {},
  "kernelspec": {
   "display_name": "Python [conda env:dbI]",
   "language": "python",
   "name": "conda-env-dbI-py"
  },
  "language_info": {
   "codemirror_mode": {
    "name": "ipython",
    "version": 3
   },
   "file_extension": ".py",
   "mimetype": "text/x-python",
   "name": "python",
   "nbconvert_exporter": "python",
   "pygments_lexer": "ipython3",
   "version": "3.5.3"
  }
 },
 "nbformat": 4,
 "nbformat_minor": 1
}
